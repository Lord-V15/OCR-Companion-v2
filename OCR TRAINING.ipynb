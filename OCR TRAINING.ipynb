{
 "cells": [
  {
   "cell_type": "markdown",
   "metadata": {},
   "source": [
    "# Importing Libraries and Dataset Preprocessing"
   ]
  },
  {
   "cell_type": "code",
   "execution_count": 13,
   "metadata": {},
   "outputs": [],
   "source": [
    "import numpy as np # linear algebra\n",
    "import pandas as pd # data processing, CSV file I/O (e.g. pd.read_csv)\n",
    "import matplotlib.pyplot as plt\n",
    "import matplotlib.image as mpimg\n",
    "import tensorflow as tf\n",
    "from tensorflow import keras\n",
    "import string\n",
    "import time"
   ]
  },
  {
   "cell_type": "code",
   "execution_count": 5,
   "metadata": {},
   "outputs": [
    {
     "name": "stdout",
     "output_type": "stream",
     "text": [
      "No of Images : 1774\n",
      "Characters :  abcdefghijklmnopqrstuvwxyzABCDEFGHIJKLMNOPQRSTUVWXYZ0123456789.,*&!@~():`^]¢‘;|-«\n",
      "No of chars : 82\n"
     ]
    },
    {
     "data": {
      "image/png": "[encoded data removed]",
      "text/plain": [
       "<Figure size 432x288 with 1 Axes>"
      ]
     },
     "metadata": {
      "needs_background": "light"
     },
     "output_type": "display_data"
    }
   ],
   "source": [
    "from PIL import Image\n",
    "\n",
    "text_file=open(r\"UsedSentences.txt\",\"r\")\n",
    "\n",
    "details=[]\n",
    "outputs=[]\n",
    "names=[]\n",
    "for line in text_file:\n",
    "    a=line.split('#')\n",
    "    outputs.append(a[1].strip('\\n'))\n",
    "    details.append(a[0])\n",
    "\n",
    "for detail in details:\n",
    "    a=detail.split(' ')\n",
    "    names.append(a[0])\n",
    "X=[]\n",
    "\n",
    "for name in names:\n",
    "    img=Image.open('CleanedImages/Encoder_Clean_Renamed/'+name+'.png','r')\n",
    "    img = img.resize((784,32), Image.ANTIALIAS)\n",
    "    img=np.asarray(img)\n",
    "    img=img[:,:,0]\n",
    "    X.append(img)\n",
    "\n",
    "X=np.asarray(X)\n",
    "plt.imshow(X[42])\n",
    "plt.title(outputs[42])\n",
    "print(\"No of Images :\",X.shape[0])\n",
    "\n",
    "symbols = \" \"+string.ascii_lowercase + string.ascii_uppercase+\"0123456789.,*&!@~():`^]¢‘;|-«\"\n",
    "print(\"Characters :\",symbols)\n",
    "print(\"No of chars :\",len(symbols))\n",
    "\n",
    "# print(os.listdir('../input/linesdata/data/sentences/s01/'))\n",
    "\n"
   ]
  },
  {
   "cell_type": "code",
   "execution_count": 8,
   "metadata": {},
   "outputs": [],
   "source": [
    "Y=np.zeros(shape=(len(outputs),98,len(symbols)))\n",
    "for example_no,name in enumerate(outputs):\n",
    "    for letter_no,letter in enumerate(name):\n",
    "        try:\n",
    "            Y[example_no][letter_no][symbols.index(letter)]=1\n",
    "        except:\n",
    "            print(letter,end=\" \")"
   ]
  },
  {
   "cell_type": "code",
   "execution_count": 9,
   "metadata": {},
   "outputs": [
    {
     "name": "stdout",
     "output_type": "stream",
     "text": [
      "Shape of X is : (1774, 32, 784, 1)\n"
     ]
    }
   ],
   "source": [
    "X=np.reshape(X,(X.shape[0],X.shape[1],X.shape[2],1))\n",
    "print(\"Shape of X is :\",X.shape)"
   ]
  },
  {
   "cell_type": "markdown",
   "metadata": {},
   "source": [
    "# Model Architecture and Training"
   ]
  },
  {
   "cell_type": "code",
   "execution_count": 10,
   "metadata": {},
   "outputs": [],
   "source": [
    "# Neural Network Model \n",
    "# Try Removing Batch Normalisation and see how the performance decreases.\n",
    "def OCRModel():\n",
    "    image=keras.layers.Input((32,784,1))\n",
    "    conv1=keras.layers.Conv2D(16,(3,3),activation='relu',padding='same')(image)\n",
    "    mp1=keras.layers.MaxPooling2D((2,2),padding='same')(conv1)\n",
    "    conv2=keras.layers.Conv2D(32,(3,3),activation='relu',padding='same')(mp1)\n",
    "    mp2=keras.layers.MaxPooling2D((2,2),padding='same')(conv2)\n",
    "    conv3=keras.layers.Conv2D(64,(3,3),activation='relu',padding='same')(mp2)\n",
    "    mp3=keras.layers.MaxPooling2D((2,2),padding='same')(conv3)\n",
    "    conv4=keras.layers.Conv2D(128,(3,3),activation='relu',padding='same')(mp3)\n",
    "    mp4=keras.layers.MaxPooling2D((2,1),padding='same')(conv4)\n",
    "    conv5=keras.layers.Conv2D(256,(3,3),activation='relu',padding='same')(mp4)\n",
    "    mp5=keras.layers.MaxPooling2D((2,1),padding='same')(conv5)\n",
    "    conv6=keras.layers.Conv2D(256,(3,3),activation='relu',padding='same')(mp5)\n",
    "    # mp6=keras.layers.MaxPooling2D((1,3),padding='same')(conv6)\n",
    "    bn=keras.layers.BatchNormalization()(conv6)\n",
    "    sq=keras.backend.squeeze(bn,axis=1)\n",
    "\n",
    "    rn1=keras.layers.Bidirectional(keras.layers.LSTM(256,return_sequences=True))(sq)\n",
    "    rn2=keras.layers.Bidirectional(keras.layers.LSTM(256,return_sequences=True))(rn1)\n",
    "\n",
    "    exd=keras.backend.expand_dims(rn2,axis=2)\n",
    "    maping=keras.layers.Conv2D(len(symbols),(2,2),activation='relu',padding='same')(exd)\n",
    "    maping=keras.backend.squeeze(maping,axis=2)\n",
    "    maping = tf.keras.layers.Softmax()(maping)\n",
    "\n",
    "    # bn = keras.layers.BatchNormalization()(conv3)\n",
    "    model=keras.Model(image,maping)\n",
    "    model.compile(loss='categorical_crossentropy', optimizer='adam')\n",
    "    \n",
    "    return model"
   ]
  },
  {
   "cell_type": "code",
   "execution_count": 14,
   "metadata": {},
   "outputs": [
    {
     "name": "stdout",
     "output_type": "stream",
     "text": [
      "Epoch 1/50\n",
      "56/56 [==============================] - 65s 1s/step - loss: 1.6101\n",
      "Epoch 2/50\n",
      "56/56 [==============================] - 63s 1s/step - loss: 1.5038\n",
      "Epoch 3/50\n",
      "56/56 [==============================] - 62s 1s/step - loss: 1.4894\n",
      "Epoch 4/50\n",
      "56/56 [==============================] - 62s 1s/step - loss: 1.4706\n",
      "Epoch 5/50\n",
      "56/56 [==============================] - 64s 1s/step - loss: 1.4388\n",
      "Epoch 6/50\n",
      "56/56 [==============================] - 64s 1s/step - loss: 1.3928\n",
      "Epoch 7/50\n",
      "56/56 [==============================] - 64s 1s/step - loss: 1.3336\n",
      "Epoch 8/50\n",
      "56/56 [==============================] - 63s 1s/step - loss: 1.2297\n",
      "Epoch 9/50\n",
      "56/56 [==============================] - 64s 1s/step - loss: 1.1352\n",
      "Epoch 10/50\n",
      "56/56 [==============================] - 63s 1s/step - loss: 1.0204\n",
      "Epoch 11/50\n",
      "56/56 [==============================] - 63s 1s/step - loss: 0.8765\n",
      "Epoch 12/50\n",
      "56/56 [==============================] - 64s 1s/step - loss: 0.6912\n",
      "Epoch 13/50\n",
      "56/56 [==============================] - 61s 1s/step - loss: 0.5825\n",
      "Epoch 14/50\n",
      "56/56 [==============================] - 61s 1s/step - loss: 0.5189\n",
      "Epoch 15/50\n",
      "56/56 [==============================] - 64s 1s/step - loss: 0.3911\n",
      "Epoch 16/50\n",
      "56/56 [==============================] - 65s 1s/step - loss: 0.3026\n",
      "Epoch 17/50\n",
      "56/56 [==============================] - 64s 1s/step - loss: 0.2265\n",
      "Epoch 18/50\n",
      "56/56 [==============================] - 67s 1s/step - loss: 0.1867\n",
      "Epoch 19/50\n",
      "56/56 [==============================] - 65s 1s/step - loss: 0.1635\n",
      "Epoch 20/50\n",
      "56/56 [==============================] - 64s 1s/step - loss: 0.1027\n",
      "Epoch 21/50\n",
      "56/56 [==============================] - 64s 1s/step - loss: 0.1045\n",
      "Epoch 22/50\n",
      "56/56 [==============================] - 66s 1s/step - loss: 0.0807\n",
      "Epoch 23/50\n",
      "56/56 [==============================] - 65s 1s/step - loss: 0.0545\n",
      "Epoch 24/50\n",
      "56/56 [==============================] - 62s 1s/step - loss: 0.0382\n",
      "Epoch 25/50\n",
      "56/56 [==============================] - 65s 1s/step - loss: 0.0330\n",
      "Epoch 26/50\n",
      "56/56 [==============================] - 65s 1s/step - loss: 0.0533\n",
      "Epoch 27/50\n",
      "56/56 [==============================] - 62s 1s/step - loss: 0.1291\n",
      "Epoch 28/50\n",
      "56/56 [==============================] - 67s 1s/step - loss: 0.1225\n",
      "Epoch 29/50\n",
      "56/56 [==============================] - 67s 1s/step - loss: 0.0871\n",
      "Epoch 30/50\n",
      "56/56 [==============================] - 65s 1s/step - loss: 0.0311\n",
      "Epoch 31/50\n",
      "56/56 [==============================] - 66s 1s/step - loss: 0.0186\n",
      "Epoch 32/50\n",
      "56/56 [==============================] - 62s 1s/step - loss: 0.0150\n",
      "Epoch 33/50\n",
      "56/56 [==============================] - 63s 1s/step - loss: 0.0132\n",
      "Epoch 34/50\n",
      "56/56 [==============================] - 64s 1s/step - loss: 0.0118\n",
      "Epoch 35/50\n",
      "56/56 [==============================] - 61s 1s/step - loss: 0.0112\n",
      "Epoch 36/50\n",
      "56/56 [==============================] - 59s 1s/step - loss: 0.0104\n",
      "Epoch 37/50\n",
      "56/56 [==============================] - 59s 1s/step - loss: 0.0100\n",
      "Epoch 38/50\n",
      "56/56 [==============================] - 58s 1s/step - loss: 0.0095\n",
      "Epoch 39/50\n",
      "56/56 [==============================] - 61s 1s/step - loss: 0.0097\n",
      "Epoch 40/50\n",
      "56/56 [==============================] - 63s 1s/step - loss: 0.1368\n",
      "Epoch 41/50\n",
      "56/56 [==============================] - 60s 1s/step - loss: 0.1813\n",
      "Epoch 42/50\n",
      "56/56 [==============================] - 63s 1s/step - loss: 0.0375\n",
      "Epoch 43/50\n",
      "56/56 [==============================] - 64s 1s/step - loss: 0.0143\n",
      "Epoch 44/50\n",
      "56/56 [==============================] - 62s 1s/step - loss: 0.0107\n",
      "Epoch 45/50\n",
      "56/56 [==============================] - 66s 1s/step - loss: 0.0099\n",
      "Epoch 46/50\n",
      "56/56 [==============================] - 64s 1s/step - loss: 0.0090\n",
      "Epoch 47/50\n",
      "56/56 [==============================] - 65s 1s/step - loss: 0.0084\n",
      "Epoch 48/50\n",
      "56/56 [==============================] - 64s 1s/step - loss: 0.0080\n",
      "Epoch 49/50\n",
      "56/56 [==============================] - 66s 1s/step - loss: 0.0077\n",
      "Epoch 50/50\n",
      "56/56 [==============================] - 67s 1s/step - loss: 0.0074\n",
      "CPU times: user 5h 13min 40s, sys: 2h 19min 16s, total: 7h 32min 57s\n",
      "Wall time: 54min 1s\n"
     ]
    },
    {
     "data": {
      "text/plain": [
       "<tensorflow.python.keras.callbacks.History at 0x7fdea62eb670>"
      ]
     },
     "execution_count": 14,
     "metadata": {},
     "output_type": "execute_result"
    }
   ],
   "source": [
    "%%time\n",
    "from keras.utils.vis_utils import plot_model\n",
    "OCR=OCRModel()\n",
    "OCR.fit(X,Y,epochs=50)"
   ]
  },
  {
   "cell_type": "markdown",
   "metadata": {},
   "source": [
    "# Saving Model and Demo testing"
   ]
  },
  {
   "cell_type": "code",
   "execution_count": 15,
   "metadata": {},
   "outputs": [],
   "source": [
    "#plot_model(OCR, to_file='plot.png', show_shapes=True, show_layer_names=True)\n",
    "OCR.save('OCR.h5')"
   ]
  },
  {
   "cell_type": "code",
   "execution_count": 17,
   "metadata": {},
   "outputs": [
    {
     "name": "stdout",
     "output_type": "stream",
     "text": [
      "98\n",
      "predicted: filter that replaces the pixel values with the neighb\n",
      "\n",
      "Orignal:  filter that replaces the pixel values with the neighb\n"
     ]
    },
    {
     "data": {
      "image/png": "[encoded data removed]",
      "text/plain": [
       "<Figure size 432x288 with 1 Axes>"
      ]
     },
     "metadata": {
      "needs_background": "light"
     },
     "output_type": "display_data"
    }
   ],
   "source": [
    "xx=OCR.predict(X)\n",
    "index=466\n",
    "c=\"\"\n",
    "print(len(xx[0]))\n",
    "for i in range(len(xx[0])):\n",
    "    c=c+(symbols[np.argmax(xx[index][i])])\n",
    "print(\"predicted:\",c.strip())\n",
    "print(\"\\nOrignal:\",outputs[index])\n",
    "plt.imshow(X[index][:,:,0])\n",
    "plt.show()"
   ]
  },
  {
   "cell_type": "code",
   "execution_count": 25,
   "metadata": {},
   "outputs": [
    {
     "name": "stdout",
     "output_type": "stream",
     "text": [
      "Requirement already up-to-date: coremltools in /Users/lord/opt/anaconda3/envs/Localytee/lib/python3.8/site-packages (4.0)\n",
      "Requirement already satisfied, skipping upgrade: attrs in /Users/lord/opt/anaconda3/envs/Localytee/lib/python3.8/site-packages (from coremltools) (20.3.0)\n",
      "Requirement already satisfied, skipping upgrade: sympy in /Users/lord/opt/anaconda3/envs/Localytee/lib/python3.8/site-packages (from coremltools) (1.7.1)\n",
      "Requirement already satisfied, skipping upgrade: packaging in /Users/lord/opt/anaconda3/envs/Localytee/lib/python3.8/site-packages (from coremltools) (20.4)\n",
      "Requirement already satisfied, skipping upgrade: attr in /Users/lord/opt/anaconda3/envs/Localytee/lib/python3.8/site-packages (from coremltools) (0.3.1)\n",
      "Requirement already satisfied, skipping upgrade: numpy>=1.14.5 in /Users/lord/opt/anaconda3/envs/Localytee/lib/python3.8/site-packages (from coremltools) (1.18.5)\n",
      "Requirement already satisfied, skipping upgrade: scipy in /Users/lord/opt/anaconda3/envs/Localytee/lib/python3.8/site-packages (from coremltools) (1.5.2)\n",
      "Requirement already satisfied, skipping upgrade: six>=1.10.0 in /Users/lord/opt/anaconda3/envs/Localytee/lib/python3.8/site-packages (from coremltools) (1.15.0)\n",
      "Requirement already satisfied, skipping upgrade: tqdm in /Users/lord/opt/anaconda3/envs/Localytee/lib/python3.8/site-packages (from coremltools) (4.52.0)\n",
      "Requirement already satisfied, skipping upgrade: protobuf>=3.1.0 in /Users/lord/opt/anaconda3/envs/Localytee/lib/python3.8/site-packages (from coremltools) (3.14.0)\n",
      "Requirement already satisfied, skipping upgrade: mpmath>=0.19 in /Users/lord/opt/anaconda3/envs/Localytee/lib/python3.8/site-packages (from sympy->coremltools) (1.1.0)\n",
      "Requirement already satisfied, skipping upgrade: pyparsing>=2.0.2 in /Users/lord/opt/anaconda3/envs/Localytee/lib/python3.8/site-packages (from packaging->coremltools) (2.4.7)\n"
     ]
    },
    {
     "name": "stderr",
     "output_type": "stream",
     "text": [
      "Running TensorFlow Graph Passes: 100%|██████████| 5/5 [00:01<00:00,  2.57 passes/s]\n",
      "Converting Frontend ==> MIL Ops:   0%|          | 0/212 [00:00<?, ? ops/s]\n",
      "Converting Frontend ==> MIL Ops: 100%|██████████| 13/13 [00:00<00:00, 22337.55 ops/s]\n",
      "\n",
      "Converting Frontend ==> MIL Ops:   0%|          | 0/36 [00:00<?, ? ops/s]\u001b[AWARNING:root:Input ls elem type unknown. Override with <class 'coremltools.converters.mil.mil.types.type_tensor.tensor.<locals>.tensor'>\n",
      "Converting Frontend ==> MIL Ops: 100%|██████████| 36/36 [00:00<00:00, 3520.43 ops/s]\n",
      "\n",
      "Converting Frontend ==> MIL Ops: 100%|██████████| 13/13 [00:00<00:00, 17287.87 ops/s]\n",
      "\n",
      "Converting Frontend ==> MIL Ops:   0%|          | 0/36 [00:00<?, ? ops/s]\u001b[AWARNING:root:Input ls elem type unknown. Override with <class 'coremltools.converters.mil.mil.types.type_tensor.tensor.<locals>.tensor'>\n",
      "Converting Frontend ==> MIL Ops: 100%|██████████| 36/36 [00:00<00:00, 3573.17 ops/s]\n",
      "Converting Frontend ==> MIL Ops:  76%|███████▌  | 161/212 [00:00<00:00, 1314.46 ops/s]\n",
      "Converting Frontend ==> MIL Ops: 100%|██████████| 13/13 [00:00<00:00, 14804.77 ops/s]\n",
      "\n",
      "Converting Frontend ==> MIL Ops:   0%|          | 0/36 [00:00<?, ? ops/s]\u001b[AWARNING:root:Input ls elem type unknown. Override with <class 'coremltools.converters.mil.mil.types.type_tensor.tensor.<locals>.tensor'>\n",
      "Converting Frontend ==> MIL Ops: 100%|██████████| 36/36 [00:00<00:00, 3574.61 ops/s]\n",
      "\n",
      "Converting Frontend ==> MIL Ops: 100%|██████████| 13/13 [00:00<00:00, 16127.17 ops/s]\n",
      "\n",
      "Converting Frontend ==> MIL Ops:   0%|          | 0/36 [00:00<?, ? ops/s]\u001b[AWARNING:root:Input ls elem type unknown. Override with <class 'coremltools.converters.mil.mil.types.type_tensor.tensor.<locals>.tensor'>\n",
      "Converting Frontend ==> MIL Ops: 100%|██████████| 36/36 [00:00<00:00, 3404.54 ops/s]\n",
      "\n",
      "Converting Frontend ==> MIL Ops: 100%|██████████| 13/13 [00:00<00:00, 17151.92 ops/s]\n",
      "\n",
      "Converting Frontend ==> MIL Ops:   0%|          | 0/36 [00:00<?, ? ops/s]\u001b[AWARNING:root:Input ls elem type unknown. Override with <class 'coremltools.converters.mil.mil.types.type_tensor.tensor.<locals>.tensor'>\n",
      "Converting Frontend ==> MIL Ops: 100%|██████████| 36/36 [00:00<00:00, 3372.08 ops/s]\n",
      "\n",
      "Converting Frontend ==> MIL Ops: 100%|██████████| 13/13 [00:00<00:00, 16881.10 ops/s]\n",
      "\n",
      "Converting Frontend ==> MIL Ops:   0%|          | 0/36 [00:00<?, ? ops/s]\u001b[AWARNING:root:Input ls elem type unknown. Override with <class 'coremltools.converters.mil.mil.types.type_tensor.tensor.<locals>.tensor'>\n",
      "Converting Frontend ==> MIL Ops: 100%|██████████| 36/36 [00:00<00:00, 3372.98 ops/s]\n",
      "\n",
      "Converting Frontend ==> MIL Ops: 100%|██████████| 13/13 [00:00<00:00, 17173.53 ops/s]\n",
      "\n",
      "Converting Frontend ==> MIL Ops:   0%|          | 0/36 [00:00<?, ? ops/s]\u001b[AWARNING:root:Input ls elem type unknown. Override with <class 'coremltools.converters.mil.mil.types.type_tensor.tensor.<locals>.tensor'>\n",
      "Converting Frontend ==> MIL Ops: 100%|██████████| 36/36 [00:00<00:00, 3463.50 ops/s]\n",
      "\n",
      "Converting Frontend ==> MIL Ops: 100%|██████████| 13/13 [00:00<00:00, 17853.95 ops/s]\n",
      "\n",
      "Converting Frontend ==> MIL Ops:   0%|          | 0/36 [00:00<?, ? ops/s]\u001b[AWARNING:root:Input ls elem type unknown. Override with <class 'coremltools.converters.mil.mil.types.type_tensor.tensor.<locals>.tensor'>\n",
      "Converting Frontend ==> MIL Ops: 100%|██████████| 36/36 [00:00<00:00, 3644.76 ops/s]\n",
      "Converting Frontend ==> MIL Ops: 100%|██████████| 212/212 [00:00<00:00, 628.37 ops/s] \n",
      "Running MIL optimization passes: 100%|██████████| 17/17 [00:00<00:00, 583.15 passes/s]\n",
      "Translating MIL ==> MLModel Ops:  44%|████▍     | 165/373 [00:00<00:00, 1345.87 ops/s]\n",
      "Translating MIL ==> MLModel Ops: 100%|██████████| 1/1 [00:00<00:00, 910.82 ops/s]\n",
      "\n",
      "Translating MIL ==> MLModel Ops: 100%|██████████| 24/24 [00:00<00:00, 339.88 ops/s]\n",
      "\n",
      "Translating MIL ==> MLModel Ops: 100%|██████████| 1/1 [00:00<00:00, 2874.78 ops/s]\n",
      "\n",
      "Translating MIL ==> MLModel Ops: 100%|██████████| 24/24 [00:00<00:00, 341.09 ops/s]\n",
      "Translating MIL ==> MLModel Ops:  64%|██████▍   | 238/373 [00:00<00:00, 825.94 ops/s] \n",
      "Translating MIL ==> MLModel Ops: 100%|██████████| 1/1 [00:00<00:00, 4215.38 ops/s]\n",
      "\n",
      "Translating MIL ==> MLModel Ops: 100%|██████████| 24/24 [00:00<00:00, 260.82 ops/s]\n",
      "\n",
      "Translating MIL ==> MLModel Ops: 100%|██████████| 1/1 [00:00<00:00, 4310.69 ops/s]\n",
      "\n",
      "Translating MIL ==> MLModel Ops: 100%|██████████| 24/24 [00:00<00:00, 253.83 ops/s]\n",
      "Translating MIL ==> MLModel Ops: 100%|██████████| 373/373 [00:00<00:00, 727.43 ops/s]\n"
     ]
    }
   ],
   "source": [
    "!pip install --upgrade coremltools\n",
    "import coremltools as ct\n",
    "model = ct.convert('OCR.h5')"
   ]
  },
  {
   "cell_type": "code",
   "execution_count": 26,
   "metadata": {},
   "outputs": [],
   "source": [
    "model.save(\"OCR-iOS.mlmodel\")"
   ]
  },
  {
   "cell_type": "code",
   "execution_count": 27,
   "metadata": {},
   "outputs": [
    {
     "name": "stdout",
     "output_type": "stream",
     "text": [
      "\u001b[1m\u001b[36mCleanedImages\u001b[m\u001b[m      OCR TRAINING.ipynb OCR-iOS.mlmodel    Podfile\r\n",
      "\u001b[1m\u001b[36mDirtyImages\u001b[m\u001b[m        \u001b[1m\u001b[36mOCR v2\u001b[m\u001b[m             OCR.h5             UsedSentences.txt\r\n"
     ]
    }
   ],
   "source": [
    "!ls"
   ]
  },
  {
   "cell_type": "code",
   "execution_count": null,
   "metadata": {},
   "outputs": [],
   "source": []
  }
 ],
 "metadata": {
  "kernelspec": {
   "display_name": "Python 3",
   "language": "python",
   "name": "python3"
  },
  "language_info": {
   "codemirror_mode": {
    "name": "ipython",
    "version": 3
   },
   "file_extension": ".py",
   "mimetype": "text/x-python",
   "name": "python",
   "nbconvert_exporter": "python",
   "pygments_lexer": "ipython3",
   "version": "3.8.5"
  }
 },
 "nbformat": 4,
 "nbformat_minor": 4
}
